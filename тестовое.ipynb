{
 "cells": [
  {
   "cell_type": "code",
   "execution_count": 1,
   "id": "1cd1d281-d0de-4d0b-8401-28a271ee4508",
   "metadata": {},
   "outputs": [],
   "source": [
    "import pandas as pd\n",
    "import numpy as np\n",
    "import sqlite3"
   ]
  },
  {
   "cell_type": "code",
   "execution_count": 2,
   "id": "0bf630d9-fd06-44c2-8b51-5df4ca3fe61e",
   "metadata": {},
   "outputs": [],
   "source": [
    "conn = sqlite3.connect('my_db')"
   ]
  },
  {
   "cell_type": "code",
   "execution_count": 3,
   "id": "ed88efa8-dafe-472f-9759-0b3247f39199",
   "metadata": {},
   "outputs": [],
   "source": [
    "def select(sql):\n",
    "    return pd.read_sql(sql, conn)"
   ]
  },
  {
   "cell_type": "markdown",
   "id": "5107c01f-5115-428d-9ac9-9cc512df498d",
   "metadata": {},
   "source": [
    "### Создаем таблицу с водителями 'drivers':\n",
    "- **driver_id** - уникальный номер водителя\n",
    "- **district** - район, в котором находится водитель\n",
    "- **active_flag** - бинарная переменная: 1 - водитель активен и может принимать заказы, 0 - неактивен, не принимает заказы\n",
    "<br>\n",
    "\n",
    "Таблица регулярно обновляется, перезаписывая переменную **district**, если водитель активен."
   ]
  },
  {
   "cell_type": "code",
   "execution_count": 94,
   "id": "1a64464e-bea2-44de-bca1-9535f0e5d44c",
   "metadata": {},
   "outputs": [],
   "source": [
    "t = pd.DataFrame({'driver_id': [11, 22, 33, 44, 55, 66, 77, 88, 99, 100],\n",
    "                 'district': ['a', 'b', 'a', 'c', 'a', 'd', 'b', 'c', 'b', 'a'],\n",
    "                 'active_flag': [1, 1, 1, 0, 1, 1, 0, 0, 1, 1]\n",
    "})"
   ]
  },
  {
   "cell_type": "code",
   "execution_count": 39,
   "id": "54ccc575-4aee-42d0-8d79-2ce391344298",
   "metadata": {},
   "outputs": [
    {
     "data": {
      "text/plain": [
       "10"
      ]
     },
     "execution_count": 39,
     "metadata": {},
     "output_type": "execute_result"
    }
   ],
   "source": [
    "t.to_sql('drivers', conn, index=False, if_exists='replace')"
   ]
  },
  {
   "cell_type": "code",
   "execution_count": 103,
   "id": "fdfc008e-8848-47be-8404-3b941fde7add",
   "metadata": {},
   "outputs": [
    {
     "data": {
      "text/html": [
       "<div>\n",
       "<style scoped>\n",
       "    .dataframe tbody tr th:only-of-type {\n",
       "        vertical-align: middle;\n",
       "    }\n",
       "\n",
       "    .dataframe tbody tr th {\n",
       "        vertical-align: top;\n",
       "    }\n",
       "\n",
       "    .dataframe thead th {\n",
       "        text-align: right;\n",
       "    }\n",
       "</style>\n",
       "<table border=\"1\" class=\"dataframe\">\n",
       "  <thead>\n",
       "    <tr style=\"text-align: right;\">\n",
       "      <th></th>\n",
       "      <th>driver_id</th>\n",
       "      <th>district</th>\n",
       "      <th>active_flag</th>\n",
       "    </tr>\n",
       "  </thead>\n",
       "  <tbody>\n",
       "    <tr>\n",
       "      <th>0</th>\n",
       "      <td>11</td>\n",
       "      <td>a</td>\n",
       "      <td>1</td>\n",
       "    </tr>\n",
       "    <tr>\n",
       "      <th>1</th>\n",
       "      <td>22</td>\n",
       "      <td>b</td>\n",
       "      <td>1</td>\n",
       "    </tr>\n",
       "    <tr>\n",
       "      <th>2</th>\n",
       "      <td>33</td>\n",
       "      <td>a</td>\n",
       "      <td>1</td>\n",
       "    </tr>\n",
       "    <tr>\n",
       "      <th>3</th>\n",
       "      <td>44</td>\n",
       "      <td>c</td>\n",
       "      <td>0</td>\n",
       "    </tr>\n",
       "    <tr>\n",
       "      <th>4</th>\n",
       "      <td>55</td>\n",
       "      <td>a</td>\n",
       "      <td>1</td>\n",
       "    </tr>\n",
       "    <tr>\n",
       "      <th>5</th>\n",
       "      <td>66</td>\n",
       "      <td>d</td>\n",
       "      <td>1</td>\n",
       "    </tr>\n",
       "    <tr>\n",
       "      <th>6</th>\n",
       "      <td>77</td>\n",
       "      <td>b</td>\n",
       "      <td>0</td>\n",
       "    </tr>\n",
       "    <tr>\n",
       "      <th>7</th>\n",
       "      <td>88</td>\n",
       "      <td>c</td>\n",
       "      <td>0</td>\n",
       "    </tr>\n",
       "    <tr>\n",
       "      <th>8</th>\n",
       "      <td>99</td>\n",
       "      <td>b</td>\n",
       "      <td>1</td>\n",
       "    </tr>\n",
       "    <tr>\n",
       "      <th>9</th>\n",
       "      <td>100</td>\n",
       "      <td>a</td>\n",
       "      <td>1</td>\n",
       "    </tr>\n",
       "  </tbody>\n",
       "</table>\n",
       "</div>"
      ],
      "text/plain": [
       "   driver_id district  active_flag\n",
       "0         11        a            1\n",
       "1         22        b            1\n",
       "2         33        a            1\n",
       "3         44        c            0\n",
       "4         55        a            1\n",
       "5         66        d            1\n",
       "6         77        b            0\n",
       "7         88        c            0\n",
       "8         99        b            1\n",
       "9        100        a            1"
      ]
     },
     "execution_count": 103,
     "metadata": {},
     "output_type": "execute_result"
    }
   ],
   "source": [
    "sql = '''\n",
    "select * from drivers t\n",
    "'''\n",
    "select(sql)"
   ]
  },
  {
   "cell_type": "markdown",
   "id": "dae5229a-e750-4a08-a641-ccc363993b49",
   "metadata": {},
   "source": [
    "### Создаем таблицу с заказами 'orders':\n",
    "- **order_id** - уникальный номер заказа\n",
    "- **date_time** - время заказа\n",
    "- **district** - район, из которого пришел заказ\n",
    "<br>\n",
    "\n",
    "Таблица регулярно обновляется. Добавляются новые заказы."
   ]
  },
  {
   "cell_type": "code",
   "execution_count": 95,
   "id": "9cd42dbf-a921-4637-aceb-4ae9e334792a",
   "metadata": {},
   "outputs": [],
   "source": [
    "tt = pd.DataFrame({'order_id': [1, 2, 3, 4, 5, 6, 7, 8],\n",
    "                   'date_time': pd.to_datetime(['2023-09-01', '2023-09-01','2023-09-01', \n",
    "                                                '2023-09-01', '2023-09-01', '2023-09-01',\n",
    "                                                '2023-09-01', '2023-09-01']),\n",
    "                   'district': ['a', 'b', 'c', 'c', 'e', 'b', 'd', 'c'],\n",
    "})"
   ]
  },
  {
   "cell_type": "code",
   "execution_count": 32,
   "id": "2944fbcd-0880-4cc2-9a33-d253ff6a5a87",
   "metadata": {},
   "outputs": [
    {
     "data": {
      "text/plain": [
       "8"
      ]
     },
     "execution_count": 32,
     "metadata": {},
     "output_type": "execute_result"
    }
   ],
   "source": [
    "tt.to_sql('orders', conn, index=False, if_exists='replace')"
   ]
  },
  {
   "cell_type": "code",
   "execution_count": 104,
   "id": "78adbcab-1347-490f-8911-a21c17186c16",
   "metadata": {},
   "outputs": [
    {
     "data": {
      "text/html": [
       "<div>\n",
       "<style scoped>\n",
       "    .dataframe tbody tr th:only-of-type {\n",
       "        vertical-align: middle;\n",
       "    }\n",
       "\n",
       "    .dataframe tbody tr th {\n",
       "        vertical-align: top;\n",
       "    }\n",
       "\n",
       "    .dataframe thead th {\n",
       "        text-align: right;\n",
       "    }\n",
       "</style>\n",
       "<table border=\"1\" class=\"dataframe\">\n",
       "  <thead>\n",
       "    <tr style=\"text-align: right;\">\n",
       "      <th></th>\n",
       "      <th>order_id</th>\n",
       "      <th>date_time</th>\n",
       "      <th>district</th>\n",
       "    </tr>\n",
       "  </thead>\n",
       "  <tbody>\n",
       "    <tr>\n",
       "      <th>0</th>\n",
       "      <td>1</td>\n",
       "      <td>2023-09-01 00:00:00</td>\n",
       "      <td>a</td>\n",
       "    </tr>\n",
       "    <tr>\n",
       "      <th>1</th>\n",
       "      <td>2</td>\n",
       "      <td>2023-09-01 00:00:00</td>\n",
       "      <td>b</td>\n",
       "    </tr>\n",
       "    <tr>\n",
       "      <th>2</th>\n",
       "      <td>3</td>\n",
       "      <td>2023-09-01 00:00:00</td>\n",
       "      <td>c</td>\n",
       "    </tr>\n",
       "    <tr>\n",
       "      <th>3</th>\n",
       "      <td>4</td>\n",
       "      <td>2023-09-01 00:00:00</td>\n",
       "      <td>c</td>\n",
       "    </tr>\n",
       "    <tr>\n",
       "      <th>4</th>\n",
       "      <td>5</td>\n",
       "      <td>2023-09-01 00:00:00</td>\n",
       "      <td>e</td>\n",
       "    </tr>\n",
       "    <tr>\n",
       "      <th>5</th>\n",
       "      <td>6</td>\n",
       "      <td>2023-09-01 00:00:00</td>\n",
       "      <td>b</td>\n",
       "    </tr>\n",
       "    <tr>\n",
       "      <th>6</th>\n",
       "      <td>7</td>\n",
       "      <td>2023-09-01 00:00:00</td>\n",
       "      <td>d</td>\n",
       "    </tr>\n",
       "    <tr>\n",
       "      <th>7</th>\n",
       "      <td>8</td>\n",
       "      <td>2023-09-01 00:00:00</td>\n",
       "      <td>c</td>\n",
       "    </tr>\n",
       "  </tbody>\n",
       "</table>\n",
       "</div>"
      ],
      "text/plain": [
       "   order_id            date_time district\n",
       "0         1  2023-09-01 00:00:00        a\n",
       "1         2  2023-09-01 00:00:00        b\n",
       "2         3  2023-09-01 00:00:00        c\n",
       "3         4  2023-09-01 00:00:00        c\n",
       "4         5  2023-09-01 00:00:00        e\n",
       "5         6  2023-09-01 00:00:00        b\n",
       "6         7  2023-09-01 00:00:00        d\n",
       "7         8  2023-09-01 00:00:00        c"
      ]
     },
     "execution_count": 104,
     "metadata": {},
     "output_type": "execute_result"
    }
   ],
   "source": [
    "sql = '''\n",
    "select * from orders t\n",
    "'''\n",
    "select(sql)"
   ]
  },
  {
   "cell_type": "markdown",
   "id": "9006f903-1e22-4d9a-a2ec-fa77856d9479",
   "metadata": {},
   "source": [
    "### Считаем кол-во водителей по районам. Присваиваем каждому району ранг, где 1 - наименьшее кол-во водителей."
   ]
  },
  {
   "cell_type": "code",
   "execution_count": 101,
   "id": "15b1b5f6-e6b5-4732-8352-1f77ea14064c",
   "metadata": {},
   "outputs": [
    {
     "data": {
      "text/html": [
       "<div>\n",
       "<style scoped>\n",
       "    .dataframe tbody tr th:only-of-type {\n",
       "        vertical-align: middle;\n",
       "    }\n",
       "\n",
       "    .dataframe tbody tr th {\n",
       "        vertical-align: top;\n",
       "    }\n",
       "\n",
       "    .dataframe thead th {\n",
       "        text-align: right;\n",
       "    }\n",
       "</style>\n",
       "<table border=\"1\" class=\"dataframe\">\n",
       "  <thead>\n",
       "    <tr style=\"text-align: right;\">\n",
       "      <th></th>\n",
       "      <th>district</th>\n",
       "      <th>act_driver_count</th>\n",
       "      <th>rank</th>\n",
       "    </tr>\n",
       "  </thead>\n",
       "  <tbody>\n",
       "    <tr>\n",
       "      <th>0</th>\n",
       "      <td>c</td>\n",
       "      <td>0</td>\n",
       "      <td>1</td>\n",
       "    </tr>\n",
       "    <tr>\n",
       "      <th>1</th>\n",
       "      <td>d</td>\n",
       "      <td>1</td>\n",
       "      <td>2</td>\n",
       "    </tr>\n",
       "    <tr>\n",
       "      <th>2</th>\n",
       "      <td>b</td>\n",
       "      <td>2</td>\n",
       "      <td>3</td>\n",
       "    </tr>\n",
       "    <tr>\n",
       "      <th>3</th>\n",
       "      <td>a</td>\n",
       "      <td>4</td>\n",
       "      <td>4</td>\n",
       "    </tr>\n",
       "  </tbody>\n",
       "</table>\n",
       "</div>"
      ],
      "text/plain": [
       "  district  act_driver_count  rank\n",
       "0        c                 0     1\n",
       "1        d                 1     2\n",
       "2        b                 2     3\n",
       "3        a                 4     4"
      ]
     },
     "execution_count": 101,
     "metadata": {},
     "output_type": "execute_result"
    }
   ],
   "source": [
    "sql = '''\n",
    "with act_driver_count as\n",
    "(select t.district,  sum(t.active_flag) as act_driver_count\n",
    "from drivers t\n",
    "group by t.district)\n",
    "\n",
    "select t.*, dense_rank() over(order by t.act_driver_count) as rank\n",
    "from act_driver_count t\n",
    "'''\n",
    "select(sql)"
   ]
  },
  {
   "cell_type": "markdown",
   "id": "67d3373b-5346-470b-817b-ee50eb72b0c3",
   "metadata": {},
   "source": [
    "### Джойним столбец 'rank' из таблицы 'drivers' к таблице 'orders', чтобы на основании ранга вывести наценку на заказ.\n",
    "- Ранг 1 - наценка 1.3\n",
    "- Ранг 2 - наценка 1.2\n",
    "- Ранг 3 - наценка 1.1\n",
    "- Остальные ранги - по обычному тарифу."
   ]
  },
  {
   "cell_type": "code",
   "execution_count": 102,
   "id": "a7d988a8-0db3-4f61-9ed3-87b61440fb0b",
   "metadata": {},
   "outputs": [
    {
     "data": {
      "text/html": [
       "<div>\n",
       "<style scoped>\n",
       "    .dataframe tbody tr th:only-of-type {\n",
       "        vertical-align: middle;\n",
       "    }\n",
       "\n",
       "    .dataframe tbody tr th {\n",
       "        vertical-align: top;\n",
       "    }\n",
       "\n",
       "    .dataframe thead th {\n",
       "        text-align: right;\n",
       "    }\n",
       "</style>\n",
       "<table border=\"1\" class=\"dataframe\">\n",
       "  <thead>\n",
       "    <tr style=\"text-align: right;\">\n",
       "      <th></th>\n",
       "      <th>order_id</th>\n",
       "      <th>date_time</th>\n",
       "      <th>district</th>\n",
       "      <th>extra_coef</th>\n",
       "    </tr>\n",
       "  </thead>\n",
       "  <tbody>\n",
       "    <tr>\n",
       "      <th>0</th>\n",
       "      <td>1</td>\n",
       "      <td>2023-09-01 00:00:00</td>\n",
       "      <td>a</td>\n",
       "      <td>1.0</td>\n",
       "    </tr>\n",
       "    <tr>\n",
       "      <th>1</th>\n",
       "      <td>2</td>\n",
       "      <td>2023-09-01 00:00:00</td>\n",
       "      <td>b</td>\n",
       "      <td>1.1</td>\n",
       "    </tr>\n",
       "    <tr>\n",
       "      <th>2</th>\n",
       "      <td>3</td>\n",
       "      <td>2023-09-01 00:00:00</td>\n",
       "      <td>c</td>\n",
       "      <td>1.3</td>\n",
       "    </tr>\n",
       "    <tr>\n",
       "      <th>3</th>\n",
       "      <td>4</td>\n",
       "      <td>2023-09-01 00:00:00</td>\n",
       "      <td>c</td>\n",
       "      <td>1.3</td>\n",
       "    </tr>\n",
       "    <tr>\n",
       "      <th>4</th>\n",
       "      <td>5</td>\n",
       "      <td>2023-09-01 00:00:00</td>\n",
       "      <td>e</td>\n",
       "      <td>1.0</td>\n",
       "    </tr>\n",
       "    <tr>\n",
       "      <th>5</th>\n",
       "      <td>6</td>\n",
       "      <td>2023-09-01 00:00:00</td>\n",
       "      <td>b</td>\n",
       "      <td>1.1</td>\n",
       "    </tr>\n",
       "    <tr>\n",
       "      <th>6</th>\n",
       "      <td>7</td>\n",
       "      <td>2023-09-01 00:00:00</td>\n",
       "      <td>d</td>\n",
       "      <td>1.2</td>\n",
       "    </tr>\n",
       "    <tr>\n",
       "      <th>7</th>\n",
       "      <td>8</td>\n",
       "      <td>2023-09-01 00:00:00</td>\n",
       "      <td>c</td>\n",
       "      <td>1.3</td>\n",
       "    </tr>\n",
       "  </tbody>\n",
       "</table>\n",
       "</div>"
      ],
      "text/plain": [
       "   order_id            date_time district  extra_coef\n",
       "0         1  2023-09-01 00:00:00        a         1.0\n",
       "1         2  2023-09-01 00:00:00        b         1.1\n",
       "2         3  2023-09-01 00:00:00        c         1.3\n",
       "3         4  2023-09-01 00:00:00        c         1.3\n",
       "4         5  2023-09-01 00:00:00        e         1.0\n",
       "5         6  2023-09-01 00:00:00        b         1.1\n",
       "6         7  2023-09-01 00:00:00        d         1.2\n",
       "7         8  2023-09-01 00:00:00        c         1.3"
      ]
     },
     "execution_count": 102,
     "metadata": {},
     "output_type": "execute_result"
    }
   ],
   "source": [
    "sql = '''\n",
    "with act_driver_count as\n",
    "(select t.district,  sum(t.active_flag) as act_driver_count\n",
    "from drivers t\n",
    "group by t.district),\n",
    "\n",
    "district_rank as\n",
    "(select t.*, dense_rank() over(order by t.act_driver_count) as rank\n",
    "from act_driver_count t),\n",
    "\n",
    "orders_rank as\n",
    "(select t.*, r.rank from orders t\n",
    "left join district_rank r on t.district = r.district)\n",
    "\n",
    "select t.order_id, t.date_time, t.district,\n",
    "case when t.rank = 1 then 1.3\n",
    "     when t.rank = 2 then 1.2\n",
    "     when t.rank = 3 then 1.1\n",
    "     else 1 end as extra_coef\n",
    "from orders_rank t\n",
    "'''\n",
    "select(sql)"
   ]
  },
  {
   "cell_type": "code",
   "execution_count": null,
   "id": "ad85e80a-171c-4d1b-9140-347e41cf00da",
   "metadata": {},
   "outputs": [],
   "source": []
  }
 ],
 "metadata": {
  "kernelspec": {
   "display_name": "Python 3 (ipykernel)",
   "language": "python",
   "name": "python3"
  },
  "language_info": {
   "codemirror_mode": {
    "name": "ipython",
    "version": 3
   },
   "file_extension": ".py",
   "mimetype": "text/x-python",
   "name": "python",
   "nbconvert_exporter": "python",
   "pygments_lexer": "ipython3",
   "version": "3.11.4"
  }
 },
 "nbformat": 4,
 "nbformat_minor": 5
}
